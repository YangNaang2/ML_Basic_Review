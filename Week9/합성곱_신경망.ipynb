{
 "cells": [
  {
   "cell_type": "markdown",
   "id": "68f4857f",
   "metadata": {},
   "source": [
    "손글씨 mnist 데이터는 형태가 단순해서 심층 신경망 모델의 성능 평가하기 어려움.\n",
    "패션 mnist 데이터 통해 cnn 학습"
   ]
  },
  {
   "cell_type": "code",
   "execution_count": 1,
   "id": "33514c59",
   "metadata": {},
   "outputs": [
    {
     "name": "stdout",
     "output_type": "stream",
     "text": [
      "Downloading data from https://storage.googleapis.com/tensorflow/tf-keras-datasets/train-labels-idx1-ubyte.gz\n",
      "29515/29515 [==============================] - 0s 0us/step\n",
      "Downloading data from https://storage.googleapis.com/tensorflow/tf-keras-datasets/train-images-idx3-ubyte.gz\n",
      "26421880/26421880 [==============================] - 2s 0us/step\n",
      "Downloading data from https://storage.googleapis.com/tensorflow/tf-keras-datasets/t10k-labels-idx1-ubyte.gz\n",
      "5148/5148 [==============================] - 0s 0s/step\n",
      "Downloading data from https://storage.googleapis.com/tensorflow/tf-keras-datasets/t10k-images-idx3-ubyte.gz\n",
      "4422102/4422102 [==============================] - 0s 0us/step\n"
     ]
    }
   ],
   "source": [
    "import tensorflow as tf\n",
    "from tensorflow import keras\n",
    "import numpy as np\n",
    "import matplotlib.pyplot as plt\n",
    "\n",
    "fashion_mnist = keras.datasets.fashion_mnist\n",
    "(train_images, train_labels), (test_images, test_labels) = fashion_mnist.load_data()"
   ]
  },
  {
   "cell_type": "code",
   "execution_count": 2,
   "id": "54786d15",
   "metadata": {},
   "outputs": [
    {
     "data": {
      "text/plain": [
       "<matplotlib.image.AxesImage at 0x2a6d4ccaa00>"
      ]
     },
     "execution_count": 2,
     "metadata": {},
     "output_type": "execute_result"
    },
    {
     "data": {
      "image/png": "[encoded data removed]",
      "text/plain": [
       "<Figure size 640x480 with 4 Axes>"
      ]
     },
     "metadata": {},
     "output_type": "display_data"
    }
   ],
   "source": [
    "fig = plt.figure()\n",
    "ax1= fig.add_subplot(1,4,1)\n",
    "ax2= fig.add_subplot(1,4,2)\n",
    "ax3= fig.add_subplot(1,4,3)\n",
    "ax4= fig.add_subplot(1,4,4)\n",
    "\n",
    "ax1.imshow(train_images[0], cmap='Greys')\n",
    "ax2.imshow(train_images[1], cmap='Greys')\n",
    "ax3.imshow(train_images[2], cmap='Greys')\n",
    "ax4.imshow(train_images[3], cmap='Greys')"
   ]
  },
  {
   "cell_type": "code",
   "execution_count": 3,
   "id": "1cd599dc",
   "metadata": {},
   "outputs": [
    {
     "name": "stdout",
     "output_type": "stream",
     "text": [
      "[9 0 0 3]\n"
     ]
    }
   ],
   "source": [
    "print(train_labels[:4])"
   ]
  },
  {
   "cell_type": "code",
   "execution_count": 4,
   "id": "5d451bbd",
   "metadata": {},
   "outputs": [
    {
     "name": "stdout",
     "output_type": "stream",
     "text": [
      "9 : Ankle_boot\n",
      "0 : T-shirt\n",
      "0 : T-shirt\n",
      "3 : Dress\n"
     ]
    }
   ],
   "source": [
    "mnist_lbl = ['T-shirt', 'Trouser', 'Pullover', 'Dress', 'Coat', 'Sandal', 'Shirt', 'Sneaker', 'Bag', 'Ankle_boot']\n",
    "\n",
    "labels = train_labels[:4]\n",
    "for i in labels:\n",
    "    print('{} : {}'.format(i, mnist_lbl[i]))"
   ]
  },
  {
   "cell_type": "code",
   "execution_count": 5,
   "id": "a6c204d9",
   "metadata": {},
   "outputs": [
    {
     "name": "stdout",
     "output_type": "stream",
     "text": [
      "Epoch 1/10\n",
      "1875/1875 [==============================] - 2s 858us/step - loss: 0.4820 - accuracy: 0.8265\n",
      "Epoch 2/10\n",
      "1875/1875 [==============================] - 2s 861us/step - loss: 0.3658 - accuracy: 0.8647\n",
      "Epoch 3/10\n",
      "1875/1875 [==============================] - 2s 863us/step - loss: 0.3301 - accuracy: 0.8781\n",
      "Epoch 4/10\n",
      "1875/1875 [==============================] - 2s 888us/step - loss: 0.3036 - accuracy: 0.8872\n",
      "Epoch 5/10\n",
      "1875/1875 [==============================] - 2s 906us/step - loss: 0.2882 - accuracy: 0.8921\n",
      "Epoch 6/10\n",
      "1875/1875 [==============================] - 2s 891us/step - loss: 0.2744 - accuracy: 0.8979\n",
      "Epoch 7/10\n",
      "1875/1875 [==============================] - 2s 878us/step - loss: 0.2609 - accuracy: 0.9004\n",
      "Epoch 8/10\n",
      "1875/1875 [==============================] - 2s 899us/step - loss: 0.2508 - accuracy: 0.9049\n",
      "Epoch 9/10\n",
      "1875/1875 [==============================] - 2s 911us/step - loss: 0.2403 - accuracy: 0.9090\n",
      "Epoch 10/10\n",
      "1875/1875 [==============================] - 2s 906us/step - loss: 0.2308 - accuracy: 0.9134\n",
      "313/313 - 0s - loss: 0.3376 - accuracy: 0.8883 - 270ms/epoch - 864us/step\n",
      "테스트 정확도:  0.8883000016212463\n"
     ]
    }
   ],
   "source": [
    "model = keras.Sequential([\n",
    "    keras.layers.Flatten(input_shape=(28,28)),\n",
    "    keras.layers.Dense(256, activation='relu'),\n",
    "    keras.layers.Dense(128, activation='relu'),\n",
    "    keras.layers.Dense(100, activation='relu'),\n",
    "    keras.layers.Dense(10, activation='softmax')\n",
    "])\n",
    "\n",
    "model.compile(optimizer='adam',\n",
    "              loss='sparse_categorical_crossentropy',\n",
    "              metrics=['accuracy'])\n",
    "\n",
    "train_images, test_images = train_images / 255, test_images / 255\n",
    "model.fit(train_images, train_labels, epochs=10)\n",
    "\n",
    "test_loss, test_acc = model.evaluate(test_images, test_labels, verbose=2)\n",
    "print('테스트 정확도: ', test_acc)"
   ]
  },
  {
   "cell_type": "markdown",
   "id": "6c6fd848",
   "metadata": {},
   "source": [
    "사람은 이미지의 기하적 특징을 이해하고, 유사한 물체들을 떠올릴 수 있다.\n",
    "인공 신경망에 입력되기 위해 펼치진 한 줄의 픽셀들을 가지고는 유의미한 정보를 만들어 낼 수 없다."
   ]
  },
  {
   "cell_type": "markdown",
   "id": "bd76c58f",
   "metadata": {},
   "source": [
    "특정한 영역을 하나의 특징으로 변환하는 합성곱"
   ]
  },
  {
   "cell_type": "code",
   "execution_count": 6,
   "id": "1a71de00",
   "metadata": {},
   "outputs": [],
   "source": [
    "train_images = train_images[:,:,:,np.newaxis]\n",
    "test_images = test_images[:,:,:, np.newaxis]"
   ]
  },
  {
   "cell_type": "code",
   "execution_count": 8,
   "id": "216f526c",
   "metadata": {},
   "outputs": [],
   "source": [
    "#합성곱 신경망 모델 생성\n",
    "model = keras.models.Sequential([\n",
    "    keras.layers.Conv2D(input_shape=(28,28,1),\n",
    "                        kernel_size=(3,3), padding='same',\n",
    "                        filters=32),\n",
    "    keras.layers.MaxPooling2D((2,2), strides=2),\n",
    "    keras.layers.Conv2D(kernel_size=(3,3), padding='same', filters=64),\n",
    "    keras.layers.MaxPooling2D((2,2), strides=2),\n",
    "    keras.layers.Conv2D(kernel_size=(3,3), padding='same', filters=32),\n",
    "    keras.layers.Flatten(),\n",
    "    keras.layers.Dense(128, activation='relu'),\n",
    "    keras.layers.Dense(32, activation='relu'),\n",
    "    keras.layers.Dense(10, activation='softmax'),\n",
    "])"
   ]
  },
  {
   "cell_type": "code",
   "execution_count": 9,
   "id": "3035a71d",
   "metadata": {},
   "outputs": [
    {
     "name": "stdout",
     "output_type": "stream",
     "text": [
      "Model: \"sequential_1\"\n",
      "_________________________________________________________________\n",
      " Layer (type)                Output Shape              Param #   \n",
      "=================================================================\n",
      " conv2d_3 (Conv2D)           (None, 28, 28, 32)        320       \n",
      "                                                                 \n",
      " max_pooling2d_2 (MaxPooling  (None, 14, 14, 32)       0         \n",
      " 2D)                                                             \n",
      "                                                                 \n",
      " conv2d_4 (Conv2D)           (None, 14, 14, 64)        18496     \n",
      "                                                                 \n",
      " max_pooling2d_3 (MaxPooling  (None, 7, 7, 64)         0         \n",
      " 2D)                                                             \n",
      "                                                                 \n",
      " conv2d_5 (Conv2D)           (None, 7, 7, 32)          18464     \n",
      "                                                                 \n",
      " flatten_2 (Flatten)         (None, 1568)              0         \n",
      "                                                                 \n",
      " dense_6 (Dense)             (None, 128)               200832    \n",
      "                                                                 \n",
      " dense_7 (Dense)             (None, 32)                4128      \n",
      "                                                                 \n",
      " dense_8 (Dense)             (None, 10)                330       \n",
      "                                                                 \n",
      "=================================================================\n",
      "Total params: 242,570\n",
      "Trainable params: 242,570\n",
      "Non-trainable params: 0\n",
      "_________________________________________________________________\n"
     ]
    }
   ],
   "source": [
    "model.summary()"
   ]
  },
  {
   "cell_type": "code",
   "execution_count": 10,
   "id": "34a59f3d",
   "metadata": {},
   "outputs": [
    {
     "name": "stdout",
     "output_type": "stream",
     "text": [
      "Epoch 1/5\n",
      "1407/1407 [==============================] - 13s 9ms/step - loss: 0.4711 - accuracy: 0.8306 - val_loss: 0.3326 - val_accuracy: 0.8813\n",
      "Epoch 2/5\n",
      "1407/1407 [==============================] - 13s 9ms/step - loss: 0.3044 - accuracy: 0.8886 - val_loss: 0.2819 - val_accuracy: 0.8967\n",
      "Epoch 3/5\n",
      "1407/1407 [==============================] - 13s 9ms/step - loss: 0.2573 - accuracy: 0.9032 - val_loss: 0.2727 - val_accuracy: 0.8973\n",
      "Epoch 4/5\n",
      "1407/1407 [==============================] - 13s 9ms/step - loss: 0.2216 - accuracy: 0.9186 - val_loss: 0.2640 - val_accuracy: 0.9023\n",
      "Epoch 5/5\n",
      "1407/1407 [==============================] - 13s 9ms/step - loss: 0.1951 - accuracy: 0.9279 - val_loss: 0.2645 - val_accuracy: 0.9081\n"
     ]
    }
   ],
   "source": [
    "model.compile(optimizer='adam',\n",
    "              loss='sparse_categorical_crossentropy',\n",
    "              metrics=['accuracy'])\n",
    "hist = model.fit(train_images, train_labels,\n",
    "                 epochs=5, validation_split=0.25)"
   ]
  },
  {
   "cell_type": "code",
   "execution_count": 11,
   "id": "a4f0e3ed",
   "metadata": {},
   "outputs": [
    {
     "data": {
      "text/plain": [
       "[<matplotlib.lines.Line2D at 0x2a6d324d2b0>]"
      ]
     },
     "execution_count": 11,
     "metadata": {},
     "output_type": "execute_result"
    },
    {
     "data": {
      "image/png": "[encoded data removed]",
      "text/plain": [
       "<Figure size 640x480 with 1 Axes>"
      ]
     },
     "metadata": {},
     "output_type": "display_data"
    }
   ],
   "source": [
    "plt.plot(hist.history['accuracy'], 'b-')\n",
    "plt.plot(hist.history['val_accuracy'], 'r--')"
   ]
  },
  {
   "cell_type": "code",
   "execution_count": 12,
   "id": "e089f142",
   "metadata": {},
   "outputs": [
    {
     "name": "stdout",
     "output_type": "stream",
     "text": [
      "313/313 - 1s - loss: 0.2810 - accuracy: 0.9022 - 915ms/epoch - 3ms/step\n",
      "테스트 정확도: 0.9021999835968018\n"
     ]
    }
   ],
   "source": [
    "test_loss, test_acc = model.evaluate(test_images, test_labels, verbose=2)\n",
    "print('테스트 정확도:', test_acc)"
   ]
  },
  {
   "cell_type": "code",
   "execution_count": 13,
   "id": "875b6af2",
   "metadata": {},
   "outputs": [
    {
     "name": "stdout",
     "output_type": "stream",
     "text": [
      "1/1 [==============================] - 0s 74ms/step\n",
      "예측값 = [9 2 1 1 6 1 4 6 5 7 4 5 7 3 4 1 2 4 8 0 2 5 7 5 1]\n",
      "실제값 = [9 2 1 1 6 1 4 6 5 7 4 5 7 3 4 1 2 4 8 0 2 5 7 9 1]\n"
     ]
    }
   ],
   "source": [
    "#첫 이미지부터 25개의 이미지에 대한 정답과 예측값 비교\n",
    "mnist_lbl=['T-shirt', 'Trouser', 'Pullover', 'Dress','Coat','Sandal','Shirt', 'Sneaker', 'Bag','Ankle_boot']\n",
    "\n",
    "images = test_images[:25]\n",
    "pred = np.argmax(model.predict(images), axis=1)\n",
    "print('예측값 =', pred)\n",
    "print('실제값 =', test_labels[:25])"
   ]
  },
  {
   "cell_type": "code",
   "execution_count": 16,
   "id": "6c0143fa",
   "metadata": {},
   "outputs": [
    {
     "name": "stdout",
     "output_type": "stream",
     "text": [
      "313/313 [==============================] - 1s 3ms/step\n"
     ]
    },
    {
     "data": {
      "text/plain": [
       "<matplotlib.image.AxesImage at 0x2a6d4e00be0>"
      ]
     },
     "execution_count": 16,
     "metadata": {},
     "output_type": "execute_result"
    },
    {
     "data": {
      "image/png": "[encoded data removed]",
      "text/plain": [
       "<Figure size 480x480 with 1 Axes>"
      ]
     },
     "metadata": {},
     "output_type": "display_data"
    }
   ],
   "source": [
    "from sklearn.metrics import confusion_matrix\n",
    "pred = np.argmax(model.predict(test_images), axis=1)\n",
    "conf_mat = confusion_matrix(pred, test_labels)\n",
    "plt.matshow(conf_mat)"
   ]
  },
  {
   "cell_type": "code",
   "execution_count": 17,
   "id": "caf4560c",
   "metadata": {},
   "outputs": [
    {
     "name": "stdout",
     "output_type": "stream",
     "text": [
      "[[843   0  11  17   2   0  92   0   4   0]\n",
      " [  0 971   0   5   0   0   1   0   1   0]\n",
      " [ 31   1 860   8  48   0  64   0   2   1]\n",
      " [  8  21   8 892  47   0  22   0   4   0]\n",
      " [  5   1  54  20 836   0  65   0   4   0]\n",
      " [  0   0   0   0   0 989   0  14   2  10]\n",
      " [108   5  67  56  67   0 749   0   5   0]\n",
      " [  2   0   0   0   0   6   1 946   3  27]\n",
      " [  3   1   0   2   0   0   6   0 975   1]\n",
      " [  0   0   0   0   0   5   0  40   0 961]]\n"
     ]
    }
   ],
   "source": [
    "print(conf_mat)"
   ]
  },
  {
   "cell_type": "code",
   "execution_count": null,
   "id": "067856fa",
   "metadata": {},
   "outputs": [],
   "source": []
  }
 ],
 "metadata": {
  "kernelspec": {
   "display_name": "study64",
   "language": "python",
   "name": "python3"
  },
  "language_info": {
   "codemirror_mode": {
    "name": "ipython",
    "version": 3
   },
   "file_extension": ".py",
   "mimetype": "text/x-python",
   "name": "python",
   "nbconvert_exporter": "python",
   "pygments_lexer": "ipython3",
   "version": "3.8.18"
  }
 },
 "nbformat": 4,
 "nbformat_minor": 5
}
