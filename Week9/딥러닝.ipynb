{
 "cells": [
  {
   "cell_type": "code",
   "execution_count": 1,
   "metadata": {},
   "outputs": [
    {
     "data": {
      "text/plain": [
       "array([0.5, 1.2])"
      ]
     },
     "execution_count": 1,
     "metadata": {},
     "output_type": "execute_result"
    }
   ],
   "source": [
    "#입력값에 가중치 곱하는\n",
    "import numpy as np\n",
    "\n",
    "X = np.array([1,2])\n",
    "W = np.array([0.5, 0.6])\n",
    "X*W\n"
   ]
  },
  {
   "cell_type": "code",
   "execution_count": 2,
   "metadata": {},
   "outputs": [
    {
     "data": {
      "text/plain": [
       "(1.7, 1.7)"
      ]
     },
     "execution_count": 2,
     "metadata": {},
     "output_type": "execute_result"
    }
   ],
   "source": [
    "np.sum(X*W), np.dot(X,W)"
   ]
  },
  {
   "cell_type": "code",
   "execution_count": 3,
   "metadata": {},
   "outputs": [
    {
     "name": "stdout",
     "output_type": "stream",
     "text": [
      "A = [ 9 12 15]\n"
     ]
    }
   ],
   "source": [
    "#2개의 층으로 이루어진 퍼셉트론의 계산\n",
    "x = np.array([1,2])\n",
    "W = np.array([[1,2,3], [4,5,6]])\n",
    "A = np.dot(X,W)\n",
    "print('A =', A)"
   ]
  },
  {
   "cell_type": "code",
   "execution_count": 4,
   "metadata": {},
   "outputs": [],
   "source": [
    "#and or 회로를 퍼셉트론으로 만들기\n",
    "import numpy as np\n",
    "\n",
    "def activation(s):\n",
    "    if s > 0: return 1\n",
    "    else: return -1\n",
    "\n",
    "def perceptron(x1, x2):\n",
    "    x = np.array([x1, x2])\n",
    "    tmp = np.sum(W*x) + b\n",
    "    return activation(tmp)"
   ]
  },
  {
   "cell_type": "code",
   "execution_count": 5,
   "metadata": {},
   "outputs": [
    {
     "name": "stdout",
     "output_type": "stream",
     "text": [
      "--- 퍼셉트론으로 구현한 AND 회로 ---\n",
      " -1  -1 :  -1\n",
      " -1   1 :  -1\n",
      "  1  -1 :  -1\n",
      "  1   1 :   1\n"
     ]
    }
   ],
   "source": [
    "print('--- 퍼셉트론으로 구현한 AND 회로 ---')\n",
    "W = np.array([0.5, 0.5])\n",
    "b = -0.7\n",
    "for x1, x2 in [(-1,-1), (-1,1), (1,-1), (1,1)]:\n",
    "    y = perceptron(x1, x2)\n",
    "    print('{:3d} {:3d} : {:3d}'.format(x1, x2, y))"
   ]
  },
  {
   "cell_type": "code",
   "execution_count": 6,
   "metadata": {},
   "outputs": [
    {
     "name": "stdout",
     "output_type": "stream",
     "text": [
      "---퍼셉트론으로 구현한 OR 회로 ---\n",
      " -1  -1 :  -1\n",
      " -1   1 :   1\n",
      "  1  -1 :   1\n",
      "  1   1 :   1\n"
     ]
    }
   ],
   "source": [
    "W = np.array([0.5, 0.5])\n",
    "b = 0.7\n",
    "print('---퍼셉트론으로 구현한 OR 회로 ---')\n",
    "for x1, x2 in [(-1, -1), (-1, 1), (1, -1), (1,1)]:\n",
    "    y = perceptron(x1, x2)\n",
    "    print('{:3d} {:3d} : {:3d}'.format(x1,x2,y))"
   ]
  },
  {
   "cell_type": "code",
   "execution_count": 7,
   "metadata": {},
   "outputs": [],
   "source": [
    "#퍼셉트론 학습\n",
    "import numpy as np\n",
    "\n",
    "def activation(s):\n",
    "    if s > 0: return 1\n",
    "    else: return -1\n",
    "    \n",
    "def out(x):\n",
    "    return activation(W.dot(x))"
   ]
  },
  {
   "cell_type": "code",
   "execution_count": 8,
   "metadata": {},
   "outputs": [],
   "source": [
    "def train(X, Y, epochs=10):\n",
    "    global W, learning_rate\n",
    "    for t in range(epochs):\n",
    "        print('epoch= ', t, '\\n====================')\n",
    "        ajusted = 0\n",
    "        for i in range(len(X)):\n",
    "            Y_hat = out(X[i])\n",
    "            error = Y[i] - Y_hat\n",
    "            if error != 0 : ajusted += 1\n",
    "            W += learning_rate * error * X[i]\n",
    "            print('입력:', X[i], '정답:', Y[i], '출력:', Y_hat, '변경된 가중치:', W, 'error:', error)\n",
    "            \n",
    "        if ajusted == 0: return"
   ]
  },
  {
   "cell_type": "code",
   "execution_count": 9,
   "metadata": {},
   "outputs": [
    {
     "name": "stdout",
     "output_type": "stream",
     "text": [
      "epoch=  0 \n",
      "====================\n",
      "입력: [-1 -1  1] 정답: -1 출력: -1 변경된 가중치: [0. 0. 0.] error: 0\n",
      "입력: [-1  1  1] 정답: -1 출력: -1 변경된 가중치: [0. 0. 0.] error: 0\n",
      "입력: [ 1 -1  1] 정답: -1 출력: -1 변경된 가중치: [0. 0. 0.] error: 0\n",
      "입력: [1 1 1] 정답: 1 출력: -1 변경된 가중치: [0.2 0.2 0.2] error: 2\n",
      "epoch=  1 \n",
      "====================\n",
      "입력: [-1 -1  1] 정답: -1 출력: -1 변경된 가중치: [0.2 0.2 0.2] error: 0\n",
      "입력: [-1  1  1] 정답: -1 출력: 1 변경된 가중치: [0.4 0.  0. ] error: -2\n",
      "입력: [ 1 -1  1] 정답: -1 출력: 1 변경된 가중치: [ 0.2  0.2 -0.2] error: -2\n",
      "입력: [1 1 1] 정답: 1 출력: 1 변경된 가중치: [ 0.2  0.2 -0.2] error: 0\n",
      "epoch=  2 \n",
      "====================\n",
      "입력: [-1 -1  1] 정답: -1 출력: -1 변경된 가중치: [ 0.2  0.2 -0.2] error: 0\n",
      "입력: [-1  1  1] 정답: -1 출력: -1 변경된 가중치: [ 0.2  0.2 -0.2] error: 0\n",
      "입력: [ 1 -1  1] 정답: -1 출력: -1 변경된 가중치: [ 0.2  0.2 -0.2] error: 0\n",
      "입력: [1 1 1] 정답: 1 출력: 1 변경된 가중치: [ 0.2  0.2 -0.2] error: 0\n"
     ]
    }
   ],
   "source": [
    "X = np.array([[-1, -1, 1],\n",
    "             [-1, 1, 1],\n",
    "             [1, -1, 1],\n",
    "             [1, 1, 1]])\n",
    "Y = np.array([-1, -1, -1, 1])\n",
    "W = np.array([0,0,0], dtype=np.float64)\n",
    "learning_rate = 0.1\n",
    "train(X,Y,100)"
   ]
  },
  {
   "cell_type": "code",
   "execution_count": 10,
   "metadata": {},
   "outputs": [
    {
     "name": "stdout",
     "output_type": "stream",
     "text": [
      "퍼셉트론의 예측 결과(AND 회로)\n",
      "x0 x1 y\n",
      "-1  -1  -1\n",
      "-1   1  -1\n",
      " 1  -1  -1\n",
      " 1   1   1\n"
     ]
    }
   ],
   "source": [
    "def predict(X, circuit):\n",
    "    print('퍼셉트론의 예측 결과({} 회로)\\nx0 x1 y'.format(circuit))\n",
    "    for x in X:\n",
    "        print('{:2d} {:3d} {:3d}'.format(x[0], x[1], out(x)))\n",
    "    \n",
    "predict(X, 'AND')"
   ]
  },
  {
   "cell_type": "code",
   "execution_count": 11,
   "metadata": {},
   "outputs": [],
   "source": [
    "#XOR은 안됨. 다중 퍼셉트론으로 XOR 연산\n",
    "import numpy as np\n",
    "\n",
    "w1 = np.array([.5, .5])\n",
    "w2 = np.array([.5, .5])\n",
    "b1, b2 = -0.7, 0.7\n",
    "\n",
    "def activation(s):\n",
    "    if s > 0: return 1\n",
    "    else: return -1\n",
    "\n",
    "def perceptron(x, w, b):\n",
    "    y = np.sum(w*x) + b\n",
    "    return activation(y)"
   ]
  },
  {
   "cell_type": "code",
   "execution_count": 12,
   "metadata": {},
   "outputs": [],
   "source": [
    "def AND(x1, x2):\n",
    "    return perceptron(np.array([x1, x2]), w1, b1)\n",
    "\n",
    "def NAND(x1, x2):\n",
    "    return perceptron(np.array([x1, x2]), -w1, -b1)\n",
    "\n",
    "def OR(x1, x2):\n",
    "    return perceptron(np.array([x1, x2]), w2, b2)\n",
    "\n",
    "def XOR(x1, x2):\n",
    "    return AND(NAND(x1, x2), OR(x1, x2))"
   ]
  },
  {
   "cell_type": "code",
   "execution_count": 13,
   "metadata": {},
   "outputs": [
    {
     "name": "stdout",
     "output_type": "stream",
     "text": [
      "--- 다층 퍼셉트론으로 구현한 XOR 회로---\n",
      "-1  -1 :  -1\n",
      " 1  -1 :   1\n",
      "-1   1 :   1\n",
      " 1   1 :  -1\n"
     ]
    }
   ],
   "source": [
    "print('--- 다층 퍼셉트론으로 구현한 XOR 회로---')\n",
    "for x in [(-1, -1), (1, -1), (-1, 1), (1, 1)]:\n",
    "    y = XOR(x[0], x[1])\n",
    "    print('{:2d} {:3d} : {:3d}'.format(x[0], x[1], y))"
   ]
  },
  {
   "cell_type": "markdown",
   "metadata": {},
   "source": [
    "IRIS 데이터 분류에 딥러닝 적용"
   ]
  },
  {
   "cell_type": "code",
   "execution_count": 14,
   "metadata": {},
   "outputs": [],
   "source": [
    "import numpy as np\n",
    "import tensorflow as tf\n",
    "from sklearn.datasets import load_iris\n",
    "\n",
    "iris_dataset = load_iris()"
   ]
  },
  {
   "cell_type": "code",
   "execution_count": 15,
   "metadata": {},
   "outputs": [
    {
     "name": "stdout",
     "output_type": "stream",
     "text": [
      "훈련용 데이터의 형태: (120, 4)\n",
      "훈련용 데이터의 레이블 형태:  (120,)\n",
      "테스트용 데이터의 형태: (30, 4)\n",
      "테스트용 데이터의 레이블 형태:  (30,)\n"
     ]
    }
   ],
   "source": [
    "from sklearn.model_selection import train_test_split\n",
    "\n",
    "x_train, x_test, y_train, y_test = train_test_split(\n",
    "    iris_dataset['data'], iris_dataset['target'], random_state=0, test_size=0.20)\n",
    "print('훈련용 데이터의 형태:', x_train.shape)\n",
    "print('훈련용 데이터의 레이블 형태: ', y_train.shape)\n",
    "print('테스트용 데이터의 형태:', x_test.shape)\n",
    "print('테스트용 데이터의 레이블 형태: ', y_test.shape)"
   ]
  },
  {
   "cell_type": "code",
   "execution_count": 16,
   "metadata": {},
   "outputs": [],
   "source": [
    "from tensorflow import keras\n",
    "\n",
    "model = keras.models.Sequential( [\n",
    "    keras.layers.Flatten(input_shape = (4,)),\n",
    "    keras.layers.Dense(60, activation='relu'),\n",
    "    keras.layers.Dense(3, activation='softmax')\n",
    "])"
   ]
  },
  {
   "cell_type": "code",
   "execution_count": 17,
   "metadata": {},
   "outputs": [
    {
     "name": "stdout",
     "output_type": "stream",
     "text": [
      "Epoch 1/30\n",
      "24/24 - 0s - loss: 1.4248 - accuracy: 0.1917 - 261ms/epoch - 11ms/step\n",
      "Epoch 2/30\n",
      "24/24 - 0s - loss: 1.0723 - accuracy: 0.3667 - 11ms/epoch - 445us/step\n",
      "Epoch 3/30\n",
      "24/24 - 0s - loss: 0.9253 - accuracy: 0.6500 - 10ms/epoch - 429us/step\n",
      "Epoch 4/30\n",
      "24/24 - 0s - loss: 0.8069 - accuracy: 0.6917 - 10ms/epoch - 411us/step\n",
      "Epoch 5/30\n",
      "24/24 - 0s - loss: 0.7231 - accuracy: 0.6917 - 10ms/epoch - 413us/step\n",
      "Epoch 6/30\n",
      "24/24 - 0s - loss: 0.6624 - accuracy: 0.6917 - 11ms/epoch - 455us/step\n",
      "Epoch 7/30\n",
      "24/24 - 0s - loss: 0.6141 - accuracy: 0.6917 - 11ms/epoch - 449us/step\n",
      "Epoch 8/30\n",
      "24/24 - 0s - loss: 0.5809 - accuracy: 0.7000 - 10ms/epoch - 412us/step\n",
      "Epoch 9/30\n",
      "24/24 - 0s - loss: 0.5427 - accuracy: 0.7667 - 11ms/epoch - 458us/step\n",
      "Epoch 10/30\n",
      "24/24 - 0s - loss: 0.5135 - accuracy: 0.7833 - 10ms/epoch - 416us/step\n",
      "Epoch 11/30\n",
      "24/24 - 0s - loss: 0.4976 - accuracy: 0.7083 - 10ms/epoch - 414us/step\n",
      "Epoch 12/30\n",
      "24/24 - 0s - loss: 0.4855 - accuracy: 0.8917 - 10ms/epoch - 433us/step\n",
      "Epoch 13/30\n",
      "24/24 - 0s - loss: 0.4541 - accuracy: 0.7583 - 10ms/epoch - 411us/step\n",
      "Epoch 14/30\n",
      "24/24 - 0s - loss: 0.4348 - accuracy: 0.8750 - 11ms/epoch - 469us/step\n",
      "Epoch 15/30\n",
      "24/24 - 0s - loss: 0.4232 - accuracy: 0.8083 - 11ms/epoch - 457us/step\n",
      "Epoch 16/30\n",
      "24/24 - 0s - loss: 0.4077 - accuracy: 0.9167 - 11ms/epoch - 453us/step\n",
      "Epoch 17/30\n",
      "24/24 - 0s - loss: 0.3975 - accuracy: 0.9250 - 10ms/epoch - 417us/step\n",
      "Epoch 18/30\n",
      "24/24 - 0s - loss: 0.3834 - accuracy: 0.8833 - 9ms/epoch - 392us/step\n",
      "Epoch 19/30\n",
      "24/24 - 0s - loss: 0.3679 - accuracy: 0.9250 - 11ms/epoch - 462us/step\n",
      "Epoch 20/30\n",
      "24/24 - 0s - loss: 0.3595 - accuracy: 0.9500 - 10ms/epoch - 413us/step\n",
      "Epoch 21/30\n",
      "24/24 - 0s - loss: 0.3524 - accuracy: 0.8750 - 10ms/epoch - 406us/step\n",
      "Epoch 22/30\n",
      "24/24 - 0s - loss: 0.3407 - accuracy: 0.9750 - 10ms/epoch - 413us/step\n",
      "Epoch 23/30\n",
      "24/24 - 0s - loss: 0.3235 - accuracy: 0.9500 - 10ms/epoch - 431us/step\n",
      "Epoch 24/30\n",
      "24/24 - 0s - loss: 0.3162 - accuracy: 0.9333 - 10ms/epoch - 437us/step\n",
      "Epoch 25/30\n",
      "24/24 - 0s - loss: 0.3091 - accuracy: 0.9750 - 10ms/epoch - 434us/step\n",
      "Epoch 26/30\n",
      "24/24 - 0s - loss: 0.2999 - accuracy: 0.9250 - 10ms/epoch - 402us/step\n",
      "Epoch 27/30\n",
      "24/24 - 0s - loss: 0.2873 - accuracy: 0.9583 - 10ms/epoch - 424us/step\n",
      "Epoch 28/30\n",
      "24/24 - 0s - loss: 0.2829 - accuracy: 0.9500 - 11ms/epoch - 461us/step\n",
      "Epoch 29/30\n",
      "24/24 - 0s - loss: 0.2879 - accuracy: 0.9417 - 10ms/epoch - 418us/step\n",
      "Epoch 30/30\n",
      "24/24 - 0s - loss: 0.2695 - accuracy: 0.9500 - 10ms/epoch - 414us/step\n"
     ]
    },
    {
     "data": {
      "text/plain": [
       "<keras.callbacks.History at 0x2acd72f0b50>"
      ]
     },
     "execution_count": 17,
     "metadata": {},
     "output_type": "execute_result"
    }
   ],
   "source": [
    "#모델 컴파일\n",
    "model.compile(optimizer ='adam', \\\n",
    "    loss = 'sparse_categorical_crossentropy', \\\n",
    "        metrics=['accuracy'])\n",
    "model.fit(x_train, y_train, epochs=30, batch_size=5, verbose=2)"
   ]
  },
  {
   "cell_type": "code",
   "execution_count": 18,
   "metadata": {},
   "outputs": [
    {
     "name": "stdout",
     "output_type": "stream",
     "text": [
      "신경망 모델의 학습 결과 :\n",
      "1/1 [==============================] - 0s 86ms/step - loss: 0.2467 - accuracy: 1.0000\n",
      "붓꽃 데이터의 분류 정확도:  1.0\n"
     ]
    }
   ],
   "source": [
    "#신경망 학습 결과\n",
    "print('신경망 모델의 학습 결과 :')\n",
    "eval_loss, eval_acc = model.evaluate(x_test, y_test)\n",
    "print('붓꽃 데이터의 분류 정확도: ', eval_acc)"
   ]
  },
  {
   "cell_type": "code",
   "execution_count": 24,
   "metadata": {},
   "outputs": [
    {
     "name": "stdout",
     "output_type": "stream",
     "text": [
      "신경망 모델의 학습 결과 :\n",
      "1/1 [==============================] - 0s 60ms/step - loss: 0.0613 - accuracy: 0.9667\n",
      "붗꽃 데이터의 분류 정확도:  0.9666666388511658\n"
     ]
    }
   ],
   "source": [
    "#성능 향상을 위해 층을 추가\n",
    "model = keras.models.Sequential( [\n",
    "    keras.layers.Flatten(input_shape = (4,)),\n",
    "    keras.layers.Dense(60, activation='relu'),\n",
    "    keras.layers.Dense(30, activation='relu'), # 새롭게 추가한 층층\n",
    "    keras.layers.Dense(3, activation='softmax'),\n",
    "])\n",
    "\n",
    "model.compile(optimizer='adam', loss = 'sparse_categorical_crossentropy', metrics=['accuracy'])\n",
    "hist = model.fit(x_train, y_train, epochs=30, batch_size=5, verbose=0)\n",
    "print('신경망 모델의 학습 결과 :')\n",
    "eval_loss, eval_acc = model.evaluate(x_test, y_test)\n",
    "print('붗꽃 데이터의 분류 정확도: ', eval_acc)"
   ]
  },
  {
   "cell_type": "code",
   "execution_count": 25,
   "metadata": {},
   "outputs": [
    {
     "data": {
      "text/plain": [
       "<matplotlib.legend.Legend at 0x2ace4b49d30>"
      ]
     },
     "execution_count": 25,
     "metadata": {},
     "output_type": "execute_result"
    },
    {
     "data": {
      "image/png": "[encoded data removed]",
      "text/plain": [
       "<Figure size 640x480 with 1 Axes>"
      ]
     },
     "metadata": {},
     "output_type": "display_data"
    }
   ],
   "source": [
    "import matplotlib.pyplot as plt\n",
    "plt.plot(hist.history['loss'], 'b-', label='loss value')\n",
    "plt.legend()"
   ]
  },
  {
   "cell_type": "code",
   "execution_count": 26,
   "metadata": {},
   "outputs": [
    {
     "data": {
      "text/plain": [
       "<matplotlib.legend.Legend at 0x2ace523dfd0>"
      ]
     },
     "execution_count": 26,
     "metadata": {},
     "output_type": "execute_result"
    },
    {
     "data": {
      "image/png": "[encoded data removed]",
      "text/plain": [
       "<Figure size 640x480 with 1 Axes>"
      ]
     },
     "metadata": {},
     "output_type": "display_data"
    }
   ],
   "source": [
    "plt.plot(hist.history['accuracy'], 'r-', label='accuracy')\n",
    "plt.legend()"
   ]
  },
  {
   "cell_type": "code",
   "execution_count": 28,
   "metadata": {},
   "outputs": [],
   "source": [
    "model.save('./iris_60x30_model.h5')"
   ]
  },
  {
   "cell_type": "code",
   "execution_count": 29,
   "metadata": {},
   "outputs": [
    {
     "name": "stdout",
     "output_type": "stream",
     "text": [
      "Model: \"sequential_5\"\n",
      "_________________________________________________________________\n",
      " Layer (type)                Output Shape              Param #   \n",
      "=================================================================\n",
      " flatten_5 (Flatten)         (None, 4)                 0         \n",
      "                                                                 \n",
      " dense_14 (Dense)            (None, 60)                300       \n",
      "                                                                 \n",
      " dense_15 (Dense)            (None, 30)                1830      \n",
      "                                                                 \n",
      " dense_16 (Dense)            (None, 3)                 93        \n",
      "                                                                 \n",
      "=================================================================\n",
      "Total params: 2,223\n",
      "Trainable params: 2,223\n",
      "Non-trainable params: 0\n",
      "_________________________________________________________________\n"
     ]
    }
   ],
   "source": [
    "loaded = keras.models.load_model('./iris_60x30_model.h5')\n",
    "loaded.summary()"
   ]
  },
  {
   "cell_type": "code",
   "execution_count": null,
   "metadata": {},
   "outputs": [],
   "source": []
  }
 ],
 "metadata": {
  "kernelspec": {
   "display_name": "study64",
   "language": "python",
   "name": "python3"
  },
  "language_info": {
   "codemirror_mode": {
    "name": "ipython",
    "version": 3
   },
   "file_extension": ".py",
   "mimetype": "text/x-python",
   "name": "python",
   "nbconvert_exporter": "python",
   "pygments_lexer": "ipython3",
   "version": "3.8.18"
  }
 },
 "nbformat": 4,
 "nbformat_minor": 2
}
